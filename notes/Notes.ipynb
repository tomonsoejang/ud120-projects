{
 "cells": [
  {
   "cell_type": "markdown",
   "metadata": {},
   "source": [
    "# Naive Bayes"
   ]
  },
  {
   "cell_type": "markdown",
   "metadata": {},
   "source": [
    "- no. of Chris training emails: 7936\n",
    "- no. of Sara training emails: 7884\n",
    "- training time: 1.231 s\n",
    "- accuracy: 0.9732650739476678"
   ]
  },
  {
   "cell_type": "markdown",
   "metadata": {},
   "source": [
    "## SVM"
   ]
  },
  {
   "cell_type": "markdown",
   "metadata": {},
   "source": [
    "### Using kernel=linear, gamma=\"scale\"\n",
    "- no. of Chris training emails: 7936\n",
    "- no. of Sara training emails: 7884\n",
    "- training time: 233.067 s\n",
    "- accuracy: 0.9840728100113766\n",
    "\n",
    "#### with 1% of the original features\n",
    "- no. of Chris training emails: 7936\n",
    "- no. of Sara training emails: 7884\n",
    "- training time: 0.164 s\n",
    "- accuracy: 0.8845278725824801"
   ]
  },
  {
   "cell_type": "markdown",
   "metadata": {},
   "source": [
    "### Using kernel=rbf, gamma=\"scale\"\n",
    "\n",
    "#### Using 1% of the original features \n",
    "- no. of Chris training emails: 7936\n",
    "- no. of Sara training emails: 7884\n",
    "- training time: 0.177 s\n",
    "- accuracy: 0.6160409556313993\n",
    "\n",
    "#### Using 1% of the original features and C=10000\n",
    "- no. of Chris training emails: 7936\n",
    "- no. of Sara training emails: 7884\n",
    "- training time: 0.142 s\n",
    "- accuracy: 0.8686006825938567\n"
   ]
  }
 ],
 "metadata": {
  "kernelspec": {
   "display_name": "Python 3",
   "language": "python",
   "name": "python3"
  },
  "language_info": {
   "codemirror_mode": {
    "name": "ipython",
    "version": 3
   },
   "file_extension": ".py",
   "mimetype": "text/x-python",
   "name": "python",
   "nbconvert_exporter": "python",
   "pygments_lexer": "ipython3",
   "version": "3.7.1"
  }
 },
 "nbformat": 4,
 "nbformat_minor": 2
}
