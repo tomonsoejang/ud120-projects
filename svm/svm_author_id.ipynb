{
 "cells": [
  {
   "cell_type": "markdown",
   "metadata": {},
   "source": [
    "# This is the code to accompany the Lesson 2 (SVM) mini-project.\n",
    "\n",
    "```Use a SVM to identify emails from the Enron corpus by their authors:    \n",
    "Sara has label 0\n",
    "Chris has label 1```"
   ]
  },
  {
   "cell_type": "markdown",
   "metadata": {},
   "source": [
    "**Import, create, train and make predictions with the sklearn SVC classifier**. When creating the classifier, use a linear kernel (if you forget this step, you will be unpleasantly surprised by how long the classifier takes to train). **What is the accuracy of the classifier?**"
   ]
  },
  {
   "cell_type": "code",
   "execution_count": 1,
   "metadata": {},
   "outputs": [],
   "source": [
    "import sys\n",
    "from time import time\n",
    "sys.path.append(\"../tools/\")\n",
    "from email_preprocess import preprocess, displayDataInfo"
   ]
  },
  {
   "cell_type": "code",
   "execution_count": 2,
   "metadata": {
    "scrolled": true
   },
   "outputs": [
    {
     "name": "stdout",
     "output_type": "stream",
     "text": [
      "no. of Chris training emails: 7936\n",
      "no. of Sara training emails: 7884\n",
      "training time: 235.917s\n",
      "accuracy: 0.9840728100113766\n"
     ]
    }
   ],
   "source": [
    "### features_train and features_test are the features for the training\n",
    "### and testing datasets, respectively\n",
    "### labels_train and labels_test are the corresponding item labels\n",
    "features_train, features_test, labels_train, labels_test = preprocess()\n",
    "\n",
    "#########################################################\n",
    "### your code goes here ###\n",
    "from sklearn import svm\n",
    "from sklearn.metrics import accuracy_score\n",
    "clf = svm.SVC(kernel='linear', gamma='auto')\n",
    "t0 = time()\n",
    "clf.fit(features_train, labels_train)\n",
    "print(\"training time: {}s\".format(round(time()-t0, 3)))\n",
    "pred = clf.predict(features_test)\n",
    "accuracy = accuracy_score(labels_test, pred)\n",
    "\n",
    "print(\"accuracy: {}\".format(accuracy))"
   ]
  },
  {
   "cell_type": "markdown",
   "metadata": {},
   "source": [
    "Place timing code around the fit and predict functions, like you did in the Naive Bayes mini-project. How do the training and prediction times compare to Naive Bayes?\n",
    "\n",
    "#### Are the SVM training and predicting times faster than that of Naive Bayes?\n",
    "A: Slower."
   ]
  },
  {
   "cell_type": "markdown",
   "metadata": {},
   "source": [
    "#### Notes: \n",
    "One way to speed up an algorithm is to train it on a smaller training dataset. The tradeoff is that the accuracy almost always goes down when you do this. Let’s explore this more concretely: add in the following two lines immediately before training your classifier.\n",
    "\n",
    "```features_train = features_train[:len(features_train)/100] \n",
    "labels_train = labels_train[:len(labels_train)/100]```\n",
    "\n",
    "These lines effectively slice the training dataset down to 1% of its original size, tossing out 99% of the training data. You can leave all other code unchanged. **What’s the accuracy now?**"
   ]
  },
  {
   "cell_type": "code",
   "execution_count": 3,
   "metadata": {},
   "outputs": [],
   "source": [
    "features_train = features_train[:len(features_train)//100] \n",
    "labels_train = labels_train[:len(labels_train)//100] "
   ]
  },
  {
   "cell_type": "code",
   "execution_count": 4,
   "metadata": {},
   "outputs": [
    {
     "name": "stdout",
     "output_type": "stream",
     "text": [
      "no. of Chris training emails: 79\n",
      "no. of Sara training emails: 79\n"
     ]
    }
   ],
   "source": [
    "# Display the no. of records chris and Sara in the labels\n",
    "displayDataInfo(labels_train)"
   ]
  },
  {
   "cell_type": "code",
   "execution_count": 7,
   "metadata": {
    "scrolled": true
   },
   "outputs": [
    {
     "name": "stdout",
     "output_type": "stream",
     "text": [
      "no. of Chris training emails: 79\n",
      "no. of Sara training emails: 79\n",
      "training time: 0.157s\n",
      "accuracy: 0.6160409556313993\n"
     ]
    }
   ],
   "source": [
    "displayDataInfo(labels_train)\n",
    "t0 = time()\n",
    "clf.fit(features_train, labels_train)\n",
    "print(\"training time: {}s\".format(round(time()-t0, 3)))\n",
    "pred = clf.predict(features_test)\n",
    "accuracy = accuracy_score(labels_test, pred)\n",
    "print(\"accuracy: {}\".format(accuracy))"
   ]
  },
  {
   "cell_type": "markdown",
   "metadata": {},
   "source": [
    "#### Notes:\n",
    "If speed is a major consideration (and for many real-time machine learning applications, it certainly is) then you may want to sacrifice a bit of accuracy if it means you can train/predict faster. **Which of these are applications where you can imagine a very quick-running algorithm is especially important?**\n",
    "\n",
    "```\n",
    "A. predicting the author of an email\n",
    "B. flagging credit card fraud, and blocking a transaction before it goes through\n",
    "C. voice recognition, like Siri\n",
    "```\n",
    "\n",
    "Answer : B and C"
   ]
  },
  {
   "cell_type": "markdown",
   "metadata": {},
   "source": [
    "Keep the training set slice code from the last quiz, so that you are still training on only 1% of the full training set. Change the kernel of your SVM to “rbf”. **What’s the accuracy now, with this more complex kernel?**"
   ]
  },
  {
   "cell_type": "code",
   "execution_count": 8,
   "metadata": {},
   "outputs": [
    {
     "name": "stdout",
     "output_type": "stream",
     "text": [
      "no. of Chris training emails: 79\n",
      "no. of Sara training emails: 79\n",
      "training time: 0.161s\n",
      "accuracy: 0.6160409556313993\n"
     ]
    }
   ],
   "source": [
    "displayDataInfo(labels_train)\n",
    "clf = svm.SVC(kernel='rbf', gamma='auto')\n",
    "t0 = time()\n",
    "clf.fit(features_train, labels_train)\n",
    "print(\"training time: {}s\".format(round(time()-t0, 3)))\n",
    "pred = clf.predict(features_test)\n",
    "accuracy = accuracy_score(labels_test, pred)\n",
    "print(\"accuracy: {}\".format(accuracy))"
   ]
  },
  {
   "cell_type": "markdown",
   "metadata": {},
   "source": [
    "Keep the training set size and rbf kernel from the last quiz, but try several values of C (say, 10.0, 100., 1000., and 10000.). **Which one gives the best accuracy?**\n",
    "\n",
    "**Answer:** 10000"
   ]
  },
  {
   "cell_type": "markdown",
   "metadata": {},
   "source": [
    "Once you've optimized the C value for your RBF kernel, **what accuracy does it give? Does this C value correspond to a simpler or more complex decision boundary?**\n",
    "\n",
    "**What's the accuracy of your SVM now? Is the boundary decision more or less complex than C had it's default value of 1.00**\n",
    "\n",
    "<input type=\"checkbox\">More Complex</input>\n",
    "\n",
    "<input type=\"checkbox\">less Complex</input>\n",
    "\n",
    "**Answer**: More Complex."
   ]
  },
  {
   "cell_type": "markdown",
   "metadata": {},
   "source": [
    "Now that you’ve **optimized C for the RBF kernel**, go back to using the **full training set**. In general, having a larger training set will improve the performance of your algorithm, so (by tuning C and training on a large dataset) we should get a fairly optimized result. \n",
    "\n",
    "**What is the accuracy of the optimized SVM?**"
   ]
  },
  {
   "cell_type": "markdown",
   "metadata": {},
   "source": [
    "#### Using the full training set."
   ]
  },
  {
   "cell_type": "code",
   "execution_count": 17,
   "metadata": {},
   "outputs": [
    {
     "name": "stdout",
     "output_type": "stream",
     "text": [
      "no. of Chris training emails: 7936\n",
      "no. of Sara training emails: 7884\n"
     ]
    }
   ],
   "source": [
    "features_train, features_test, labels_train, labels_test = preprocess()"
   ]
  },
  {
   "cell_type": "code",
   "execution_count": 18,
   "metadata": {},
   "outputs": [
    {
     "name": "stdout",
     "output_type": "stream",
     "text": [
      "no. of Chris training emails: 7936\n",
      "no. of Sara training emails: 7884\n",
      "training time: 152.652s\n",
      "accuracy: 0.9908987485779295\n"
     ]
    }
   ],
   "source": [
    "displayDataInfo(labels_train)\n",
    "clf = svm.SVC(C=10000, kernel='rbf', gamma='auto')\n",
    "t0 = time()\n",
    "clf.fit(features_train, labels_train)\n",
    "print(\"training time: {}s\".format(round(time()-t0, 3)))\n",
    "pred = clf.predict(features_test)\n",
    "accuracy = accuracy_score(labels_test, pred)\n",
    "print(\"accuracy: {}\".format(accuracy))"
   ]
  },
  {
   "cell_type": "markdown",
   "metadata": {},
   "source": [
    "### What class does your SVM (0 or 1, corresponding to Sara and Chris respectively) predict for element 10 of the test set? The 26th? The 50th? \n",
    "(Use the RBF kernel, C=10000, and 1% of the training set. Normally you'd get the best results using the full training set, but we found that using 1% sped up the computation considerably and did not change our results--so feel free to use that shortcut here.)\n",
    "\n",
    "And just to be clear, the data point numbers that we give here (10, 26, 50) assume a zero-indexed list. So the correct answer for element #100 would be found using something like answer=predictions[100]"
   ]
  },
  {
   "cell_type": "code",
   "execution_count": 14,
   "metadata": {},
   "outputs": [
    {
     "name": "stdout",
     "output_type": "stream",
     "text": [
      "For elements: 10, 26, and 50:\n",
      "Predictions are: 1, 0, 1.\n"
     ]
    }
   ],
   "source": [
    "print(\"For elements: {}, {}, and {}:\".format(10, 26, 50))\n",
    "print(\"Predictions are: {}, {}, {}.\".format(pred[10], pred[26], pred[50]))"
   ]
  },
  {
   "cell_type": "markdown",
   "metadata": {},
   "source": [
    "### There are over 1700 test events--how many are predicted to be in the “Chris” (1) class? \n",
    "(Use the RBF kernel, C=10000., and the full training set.)"
   ]
  },
  {
   "cell_type": "code",
   "execution_count": 19,
   "metadata": {},
   "outputs": [
    {
     "name": "stdout",
     "output_type": "stream",
     "text": [
      "no. of Chris training emails: 7936\n",
      "no. of Sara training emails: 7884\n",
      "training time: 152.843s\n",
      "accuracy: 0.9908987485779295\n",
      "Number of events predicted in Chris class is 877\n"
     ]
    }
   ],
   "source": [
    "displayDataInfo(labels_train)\n",
    "t0 = time()\n",
    "clf.fit(features_train, labels_train)\n",
    "print(\"training time: {}s\".format(round(time()-t0, 3)))\n",
    "pred = clf.predict(features_test)\n",
    "accuracy = accuracy_score(labels_test, pred)\n",
    "print(\"accuracy: {}\".format(accuracy))\n",
    "print(\"Number of events predicted in Chris class is {}\".format(sum(pred)))"
   ]
  },
  {
   "cell_type": "markdown",
   "metadata": {},
   "source": [
    "# Final Thoughts\n",
    "\n",
    "Hopefully it’s becoming clearer what Sebastian meant when he said Naive Bayes is great for text--it’s faster and generally gives better performance than an SVM for this particular problem. Of course, there are plenty of other problems where an SVM might work better. Knowing which one to try when you’re tackling a problem for the first time is part of the art and science of machine learning. In addition to picking your algorithm, depending on which one you try, there are parameter tunes to worry about as well, and the possibility of overfitting (especially if you don’t have lots of training data).\n",
    "\n",
    "Our general suggestion is to try a few different algorithms for each problem. Tuning the parameters can be a lot of work, but just sit tight for now--toward the end of the class we will introduce you to GridCV, a great sklearn tool that can find an optimal parameter tune almost automatically."
   ]
  }
 ],
 "metadata": {
  "kernelspec": {
   "display_name": "Python 3",
   "language": "python",
   "name": "python3"
  },
  "language_info": {
   "codemirror_mode": {
    "name": "ipython",
    "version": 3
   },
   "file_extension": ".py",
   "mimetype": "text/x-python",
   "name": "python",
   "nbconvert_exporter": "python",
   "pygments_lexer": "ipython3",
   "version": "3.7.1"
  }
 },
 "nbformat": 4,
 "nbformat_minor": 2
}
